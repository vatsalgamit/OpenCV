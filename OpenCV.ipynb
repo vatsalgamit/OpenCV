{
 "cells": [
  {
   "cell_type": "markdown",
   "metadata": {},
   "source": [
    "# OpenCV Practice "
   ]
  },
  {
   "cell_type": "code",
   "execution_count": 6,
   "metadata": {},
   "outputs": [
    {
     "name": "stdout",
     "output_type": "stream",
     "text": [
      "Import Successful\n"
     ]
    }
   ],
   "source": [
    "import cv2 as cv\n",
    "import numpy as np\n",
    "print('Import Successful')"
   ]
  },
  {
   "cell_type": "code",
   "execution_count": 5,
   "metadata": {},
   "outputs": [],
   "source": [
    "# path = input('Enter the Image path')\n",
    "img = cv.imread('imgs/sample.jpg',0)#Add Your image here\n",
    "cv.imshow('Image',img)\n",
    "# cv.imwrite('imgs/copied.png',img)\n",
    "cv.waitKey(0)\n",
    "cv.destroyAllWindows()"
   ]
  },
  {
   "cell_type": "code",
   "execution_count": 3,
   "metadata": {},
   "outputs": [],
   "source": [
    "#Drawing\n",
    "pic = np.zeros((500,500,3),dtype='uint8')\n",
    "# cv.rectangle(pic,(0,0),(500,150),(123,200,98),lineType=8,shift=0)\n",
    "# cv.line(pic,(0,0),(130,130),(0,0,255))\n",
    "cv.circle(pic,(250,250),100,(0,0,255),10)\n",
    "cv.circle(pic,(150,250),50,(0,0,255),5)\n",
    "\n",
    "font = cv.FONT_HERSHEY_DUPLEX\n",
    "cv.putText(pic,'VATSAL',(100,100),font,3,(0,0,200))\n",
    "cv.imshow('Pic',pic)\n",
    "cv.waitKey(0)\n",
    "cv.destroyAllWindows()"
   ]
  },
  {
   "cell_type": "code",
   "execution_count": 13,
   "metadata": {},
   "outputs": [],
   "source": [
    "#Rotation\n",
    "\n",
    "rows = img.shape[1]\n",
    "cols = img.shape[0]\n",
    "\n",
    "center = (cols/2,rows/2)\n",
    "angle = 90\n",
    "\n",
    "M = cv.getRotationMatrix2D(center,angle,1)\n",
    "rotate = cv.warpAffine(img,M,(cols,rows))\n",
    "cv.imshow('Rotated',rotate)\n",
    "cv.waitKey(0)\n",
    "cv.destroyAllWindows()"
   ]
  },
  {
   "cell_type": "code",
   "execution_count": 34,
   "metadata": {},
   "outputs": [],
   "source": [
    "#Image Thresolding\n",
    "\n",
    "\n",
    "img = cv.imread('imgs/sample.jpg',0)\n",
    "thresold_value = 120\n",
    "\n",
    "thresh1,binary_thresold = cv.threshold(img,thresold_value,255,cv.THRESH_BINARY)\n",
    "\n",
    "cv.imshow('Binary',binary_thresold)\n",
    "cv.waitKey(0)\n",
    "cv.destroyAllWindows()"
   ]
  },
  {
   "cell_type": "code",
   "execution_count": 42,
   "metadata": {},
   "outputs": [],
   "source": [
    "# Gaussina Blur\n",
    "\n",
    "img = cv.imread('imgs/sample.jpg')\n",
    "\n",
    "matrix = (25,25)\n",
    "\n",
    "blur = cv.GaussianBlur(img,matrix,0)\n",
    "cv.imshow('Blurred',blur)\n",
    "cv.waitKey(0)\n",
    "cv.destroyAllWindows()\n"
   ]
  },
  {
   "cell_type": "code",
   "execution_count": 53,
   "metadata": {},
   "outputs": [],
   "source": [
    "# Median Blur \n",
    "img = cv.imread('imgs/sample.jpg',0)\n",
    "median_blur = cv.medianBlur(img,7,0)\n",
    "\n",
    "cv.imshow('Blurred',median_blur)\n",
    "cv.imshow('Original',img)\n",
    "cv.waitKey(0)\n",
    "cv.destroyAllWindows()\n"
   ]
  },
  {
   "cell_type": "code",
   "execution_count": 60,
   "metadata": {},
   "outputs": [],
   "source": [
    "# Bilateral Filter\n",
    "\n",
    "img = cv.imread('imgs/sample.jpg')\n",
    "\n",
    "#Try to play with the parameters\n",
    "d=7\n",
    "color =100\n",
    "space = 150\n",
    "bilateral_filter = cv.bilateralFilter(img,d,color,space)\n",
    "\n",
    "\n",
    "cv.imshow('Blurred',bilateral_filter)\n",
    "cv.imshow('Original',img)\n",
    "cv.waitKey(0)\n",
    "cv.destroyAllWindows()"
   ]
  },
  {
   "cell_type": "code",
   "execution_count": 68,
   "metadata": {},
   "outputs": [],
   "source": [
    "# Canny Edge Detection\n",
    "\n",
    "img = cv.imread('imgs/sample.jpg')\n",
    "\n",
    "thresoldval1 = 50\n",
    "thresoldval2 =190\n",
    "\n",
    "canny =cv.Canny(img,thresoldval1,thresoldval2)\n",
    "\n",
    "cv.imshow('Canny',canny)\n",
    "cv.imshow('Original',img)\n",
    "cv.waitKey(0)\n",
    "cv.destroyAllWindows()\n",
    "\n"
   ]
  },
  {
   "cell_type": "code",
   "execution_count": null,
   "metadata": {},
   "outputs": [],
   "source": []
  },
  {
   "cell_type": "code",
   "execution_count": null,
   "metadata": {},
   "outputs": [],
   "source": []
  },
  {
   "cell_type": "code",
   "execution_count": null,
   "metadata": {},
   "outputs": [],
   "source": []
  },
  {
   "cell_type": "code",
   "execution_count": null,
   "metadata": {},
   "outputs": [],
   "source": []
  }
 ],
 "metadata": {
  "kernelspec": {
   "display_name": "Python 3",
   "language": "python",
   "name": "python3"
  },
  "language_info": {
   "codemirror_mode": {
    "name": "ipython",
    "version": 3
   },
   "file_extension": ".py",
   "mimetype": "text/x-python",
   "name": "python",
   "nbconvert_exporter": "python",
   "pygments_lexer": "ipython3",
   "version": "3.7.6"
  }
 },
 "nbformat": 4,
 "nbformat_minor": 4
}
